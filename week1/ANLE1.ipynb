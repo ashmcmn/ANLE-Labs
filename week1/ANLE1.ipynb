{
  "nbformat": 4,
  "nbformat_minor": 0,
  "metadata": {
    "colab": {
      "name": "ANLE1.ipynb",
      "provenance": [],
      "collapsed_sections": []
    },
    "kernelspec": {
      "name": "python3",
      "display_name": "Python 3"
    }
  },
  "cells": [
    {
      "cell_type": "code",
      "metadata": {
        "id": "rkf5VUO1MlEK"
      },
      "source": [
        "!cp '/content/drive/MyDrive/3rd Year/ANLE/Lab1/wk1labresources.zip' 'rsc.zip'\n",
        "!cp '/content/drive/MyDrive/3rd Year/ANLE/Lab1/GoogleNews-vectors-negative300.bin.gz' 'GoogleNews-vectors-negative300.bin.gz'\n",
        "!unzip 'rsc.zip'"
      ],
      "execution_count": null,
      "outputs": []
    },
    {
      "cell_type": "code",
      "metadata": {
        "id": "zkZ790LxNKyj"
      },
      "source": [
        "import nltk\n",
        "nltk.download('wordnet')\n",
        "nltk.download('wordnet_ic')\n",
        "\n",
        "import operator\n",
        "from nltk.corpus import wordnet as wn, wordnet_ic as wn_ic, lin_thesaurus as lin\n",
        "\n",
        "import pandas as pd\n",
        "import matplotlib.pyplot as plt\n",
        "import numpy as np\n",
        "import math\n",
        "from scipy.stats import spearmanr, linregress\n",
        "\n",
        "from gensim.models import KeyedVectors"
      ],
      "execution_count": null,
      "outputs": []
    },
    {
      "cell_type": "code",
      "metadata": {
        "id": "hFDst75iORUa"
      },
      "source": [
        "wn.synsets(\"book\")\n",
        "wn.synsets(\"book\",wn.NOUN)\n",
        "synsetA=wn.synsets(\"book\",wn.NOUN)[0]\n",
        "synsetA.definition()\n",
        "synsetA.hyponyms()\n",
        "synsetA.hypernyms()\n",
        "synsetB=wn.synsets(\"book\",wn.NOUN)[1]\n",
        "synsetA.path_similarity(synsetB)\n",
        "brown_ic=wn_ic.ic(\"ic-brown.dat\")\n",
        "synsetA.res_similarity(synsetB,brown_ic)\n",
        "synsetA.lin_similarity(synsetB,brown_ic)"
      ],
      "execution_count": null,
      "outputs": []
    },
    {
      "cell_type": "markdown",
      "metadata": {
        "id": "MXwU67de5yJH"
      },
      "source": [
        "# 2.1 Tasks"
      ]
    },
    {
      "cell_type": "markdown",
      "metadata": {
        "id": "yqHiWB7_560N"
      },
      "source": [
        "1. Write a function to return the path similarity of two nouns. Remember this is the maximum\n",
        "similarity of all of the possible pairings of the two nouns. Make sure you test it. For (chicken,car)\n",
        "the correct answer is 0.0909 (3sf).\n",
        "\n",
        "2. Generalise it so that you have an extra (optional) parameter which you use to select the WordNet\n",
        "similarity measure e.g., res similarity and lin similarity."
      ]
    },
    {
      "cell_type": "code",
      "metadata": {
        "id": "l1lfssnaOByO"
      },
      "source": [
        "def noun_similarity(w1, w2, measure_fn = 'path', ic = None):\n",
        "  synset1 = wn.synsets(w1, wn.NOUN)\n",
        "  synset2 = wn.synsets(w2, wn.NOUN)\n",
        "  mx = -9999\n",
        "  \n",
        "  for sense1 in synset1:\n",
        "    for sense2 in synset2:\n",
        "      if measure_fn == 'path':\n",
        "        s = sense1.path_similarity(sense2)\n",
        "      elif measure_fn == 'res':\n",
        "        s = sense1.res_similarity(sense2, ic)\n",
        "      elif measure_fn == 'lch':\n",
        "        s = sense1.lch_similarity(sense2, ic)\n",
        "      elif measure_fn == 'wup':\n",
        "        s = sense1.wup_similarity(sense2, ic)\n",
        "      elif measure_fn == 'jcn':\n",
        "        s = sense1.jcn_similarity(sense2, ic)\n",
        "      elif measure_fn == 'lin':\n",
        "        s = sense1.lin_similarity(sense2, ic)\n",
        "      mx = max(mx, s)\n",
        "\n",
        "  return mx"
      ],
      "execution_count": 5,
      "outputs": []
    },
    {
      "cell_type": "code",
      "metadata": {
        "colab": {
          "base_uri": "https://localhost:8080/"
        },
        "id": "yvWDwYvyOug3",
        "outputId": "6af1e321-3c25-4e98-fae8-4de43210056c"
      },
      "source": [
        "noun_similarity('football', 'cake', 'path', brown_ic)"
      ],
      "execution_count": 7,
      "outputs": [
        {
          "output_type": "execute_result",
          "data": {
            "text/plain": [
              "0.125"
            ]
          },
          "metadata": {
            "tags": []
          },
          "execution_count": 7
        }
      ]
    },
    {
      "cell_type": "markdown",
      "metadata": {
        "id": "UNIjB7zH6SRC"
      },
      "source": [
        "# 3.1 Tasks\n"
      ]
    },
    {
      "cell_type": "markdown",
      "metadata": {
        "id": "Gi6AiK0R6Uwp"
      },
      "source": [
        "1. Read in mcdata.csv and store it in an appropriate format so that you can obtain a list of pairs of\n",
        "nouns and the score associated with each pair.\n",
        "2. Calculate the similarity score for each pair of nouns using at least 2 semantic similarity measures.\n",
        "3. Correlate each of the calculated sets of scores with each other and with the human judgements (I\n",
        "suggest you use scipy.stats.spearmanr() or pandas for this).\n",
        "4. What do you conclude?\n",
        "\n",
        "The Miller & Charles human judgements correlate most with the Jiang-Conrath Similarity. A score denoting how similar two word senses are, based on the Information Content (IC) of the Least Common Subsumer and that of the two input Synsets. The relationship is given by the equation 1 / (IC(s1) + IC(s2) - 2 * IC(lcs)). Leacock-Chodorow Similarity correlates highly with Wu-Palmer Similarity, all measures correlate with each other to an extent with the lowest Spearman's rank correlation coefficient being 0.72 between human judgement and Leacock-Chodorow Similarity. JCN seemes to get its high human correlation from the fact that it can produce very low scores that match with some of the very low human scores, where as other measures seem unlikely to produce scores under 0.1. This is demonstrated well in the scatter plots in section 5."
      ]
    },
    {
      "cell_type": "code",
      "metadata": {
        "colab": {
          "base_uri": "https://localhost:8080/",
          "height": 235
        },
        "id": "bpGt-iVMTxJy",
        "outputId": "55e300d3-6424-47b2-eafd-612913b5fa50"
      },
      "source": [
        "df = pd.read_csv('wk1labresources/mcdata.csv', names=['Word1', 'Word2', 'Human'])\n",
        "\n",
        "df[3] = [noun_similarity(row['Word1'], row['Word2'], 'res', brown_ic) for index, row in df.iterrows()]\n",
        "df[4] = [noun_similarity(row['Word1'], row['Word2'], 'lch', brown_ic) for index, row in df.iterrows()]\n",
        "df[5] = [noun_similarity(row['Word1'], row['Word2'], 'wup', brown_ic) for index, row in df.iterrows()]\n",
        "df[6] = [noun_similarity(row['Word1'], row['Word2'], 'jcn', brown_ic) for index, row in df.iterrows()]\n",
        "df[7] = [noun_similarity(row['Word1'], row['Word2'], 'lin', brown_ic) for index, row in df.iterrows()]\n",
        "df.rename(columns={3: 'res', 4: 'lch', 5: 'wup', 6: 'jcn', 7: 'lin'}, inplace=True)\n",
        "\n",
        "\n",
        "df.corr(method='spearman')"
      ],
      "execution_count": 52,
      "outputs": [
        {
          "output_type": "execute_result",
          "data": {
            "text/html": [
              "<div>\n",
              "<style scoped>\n",
              "    .dataframe tbody tr th:only-of-type {\n",
              "        vertical-align: middle;\n",
              "    }\n",
              "\n",
              "    .dataframe tbody tr th {\n",
              "        vertical-align: top;\n",
              "    }\n",
              "\n",
              "    .dataframe thead th {\n",
              "        text-align: right;\n",
              "    }\n",
              "</style>\n",
              "<table border=\"1\" class=\"dataframe\">\n",
              "  <thead>\n",
              "    <tr style=\"text-align: right;\">\n",
              "      <th></th>\n",
              "      <th>Human</th>\n",
              "      <th>res</th>\n",
              "      <th>lch</th>\n",
              "      <th>wup</th>\n",
              "      <th>jcn</th>\n",
              "      <th>lin</th>\n",
              "    </tr>\n",
              "  </thead>\n",
              "  <tbody>\n",
              "    <tr>\n",
              "      <th>Human</th>\n",
              "      <td>1.000000</td>\n",
              "      <td>0.735945</td>\n",
              "      <td>0.722743</td>\n",
              "      <td>0.750534</td>\n",
              "      <td>0.825738</td>\n",
              "      <td>0.753510</td>\n",
              "    </tr>\n",
              "    <tr>\n",
              "      <th>res</th>\n",
              "      <td>0.735945</td>\n",
              "      <td>1.000000</td>\n",
              "      <td>0.900648</td>\n",
              "      <td>0.915520</td>\n",
              "      <td>0.886012</td>\n",
              "      <td>0.962707</td>\n",
              "    </tr>\n",
              "    <tr>\n",
              "      <th>lch</th>\n",
              "      <td>0.722743</td>\n",
              "      <td>0.900648</td>\n",
              "      <td>1.000000</td>\n",
              "      <td>0.987498</td>\n",
              "      <td>0.873062</td>\n",
              "      <td>0.945509</td>\n",
              "    </tr>\n",
              "    <tr>\n",
              "      <th>wup</th>\n",
              "      <td>0.750534</td>\n",
              "      <td>0.915520</td>\n",
              "      <td>0.987498</td>\n",
              "      <td>1.000000</td>\n",
              "      <td>0.883328</td>\n",
              "      <td>0.952724</td>\n",
              "    </tr>\n",
              "    <tr>\n",
              "      <th>jcn</th>\n",
              "      <td>0.825738</td>\n",
              "      <td>0.886012</td>\n",
              "      <td>0.873062</td>\n",
              "      <td>0.883328</td>\n",
              "      <td>1.000000</td>\n",
              "      <td>0.934315</td>\n",
              "    </tr>\n",
              "    <tr>\n",
              "      <th>lin</th>\n",
              "      <td>0.753510</td>\n",
              "      <td>0.962707</td>\n",
              "      <td>0.945509</td>\n",
              "      <td>0.952724</td>\n",
              "      <td>0.934315</td>\n",
              "      <td>1.000000</td>\n",
              "    </tr>\n",
              "  </tbody>\n",
              "</table>\n",
              "</div>"
            ],
            "text/plain": [
              "          Human       res       lch       wup       jcn       lin\n",
              "Human  1.000000  0.735945  0.722743  0.750534  0.825738  0.753510\n",
              "res    0.735945  1.000000  0.900648  0.915520  0.886012  0.962707\n",
              "lch    0.722743  0.900648  1.000000  0.987498  0.873062  0.945509\n",
              "wup    0.750534  0.915520  0.987498  1.000000  0.883328  0.952724\n",
              "jcn    0.825738  0.886012  0.873062  0.883328  1.000000  0.934315\n",
              "lin    0.753510  0.962707  0.945509  0.952724  0.934315  1.000000"
            ]
          },
          "metadata": {
            "tags": []
          },
          "execution_count": 52
        }
      ]
    },
    {
      "cell_type": "code",
      "metadata": {
        "colab": {
          "base_uri": "https://localhost:8080/",
          "height": 979
        },
        "id": "UZO5UWPSC0zT",
        "outputId": "634f42b0-0869-4672-9eff-1d27808b80bf"
      },
      "source": [
        "df"
      ],
      "execution_count": 53,
      "outputs": [
        {
          "output_type": "execute_result",
          "data": {
            "text/html": [
              "<div>\n",
              "<style scoped>\n",
              "    .dataframe tbody tr th:only-of-type {\n",
              "        vertical-align: middle;\n",
              "    }\n",
              "\n",
              "    .dataframe tbody tr th {\n",
              "        vertical-align: top;\n",
              "    }\n",
              "\n",
              "    .dataframe thead th {\n",
              "        text-align: right;\n",
              "    }\n",
              "</style>\n",
              "<table border=\"1\" class=\"dataframe\">\n",
              "  <thead>\n",
              "    <tr style=\"text-align: right;\">\n",
              "      <th></th>\n",
              "      <th>Word1</th>\n",
              "      <th>Word2</th>\n",
              "      <th>Human</th>\n",
              "      <th>res</th>\n",
              "      <th>lch</th>\n",
              "      <th>wup</th>\n",
              "      <th>jcn</th>\n",
              "      <th>lin</th>\n",
              "    </tr>\n",
              "  </thead>\n",
              "  <tbody>\n",
              "    <tr>\n",
              "      <th>0</th>\n",
              "      <td>asylum</td>\n",
              "      <td>madhouse</td>\n",
              "      <td>3.61</td>\n",
              "      <td>9.475167</td>\n",
              "      <td>2.944439</td>\n",
              "      <td>0.952381</td>\n",
              "      <td>3.126296e-01</td>\n",
              "      <td>0.855584</td>\n",
              "    </tr>\n",
              "    <tr>\n",
              "      <th>1</th>\n",
              "      <td>bird</td>\n",
              "      <td>cock</td>\n",
              "      <td>3.05</td>\n",
              "      <td>7.677755</td>\n",
              "      <td>2.944439</td>\n",
              "      <td>0.952381</td>\n",
              "      <td>2.229525e-01</td>\n",
              "      <td>0.773937</td>\n",
              "    </tr>\n",
              "    <tr>\n",
              "      <th>2</th>\n",
              "      <td>bird</td>\n",
              "      <td>crane</td>\n",
              "      <td>2.97</td>\n",
              "      <td>7.677755</td>\n",
              "      <td>2.251292</td>\n",
              "      <td>0.869565</td>\n",
              "      <td>1.931096e-01</td>\n",
              "      <td>0.747812</td>\n",
              "    </tr>\n",
              "    <tr>\n",
              "      <th>3</th>\n",
              "      <td>boy</td>\n",
              "      <td>lad</td>\n",
              "      <td>3.76</td>\n",
              "      <td>8.399492</td>\n",
              "      <td>2.944439</td>\n",
              "      <td>0.947368</td>\n",
              "      <td>2.917961e-01</td>\n",
              "      <td>0.830562</td>\n",
              "    </tr>\n",
              "    <tr>\n",
              "      <th>4</th>\n",
              "      <td>brother</td>\n",
              "      <td>monk</td>\n",
              "      <td>2.82</td>\n",
              "      <td>9.261593</td>\n",
              "      <td>2.944439</td>\n",
              "      <td>0.952381</td>\n",
              "      <td>3.917777e+00</td>\n",
              "      <td>0.986407</td>\n",
              "    </tr>\n",
              "    <tr>\n",
              "      <th>5</th>\n",
              "      <td>car</td>\n",
              "      <td>automobile</td>\n",
              "      <td>3.92</td>\n",
              "      <td>7.591401</td>\n",
              "      <td>3.637586</td>\n",
              "      <td>1.000000</td>\n",
              "      <td>1.000000e+300</td>\n",
              "      <td>1.000000</td>\n",
              "    </tr>\n",
              "    <tr>\n",
              "      <th>6</th>\n",
              "      <td>cemetery</td>\n",
              "      <td>woodland</td>\n",
              "      <td>0.95</td>\n",
              "      <td>1.290026</td>\n",
              "      <td>1.440362</td>\n",
              "      <td>0.428571</td>\n",
              "      <td>5.458198e-02</td>\n",
              "      <td>0.123441</td>\n",
              "    </tr>\n",
              "    <tr>\n",
              "      <th>7</th>\n",
              "      <td>chord</td>\n",
              "      <td>smile</td>\n",
              "      <td>0.13</td>\n",
              "      <td>2.619644</td>\n",
              "      <td>1.239691</td>\n",
              "      <td>0.375000</td>\n",
              "      <td>6.235766e-02</td>\n",
              "      <td>0.246256</td>\n",
              "    </tr>\n",
              "    <tr>\n",
              "      <th>8</th>\n",
              "      <td>coast</td>\n",
              "      <td>forest</td>\n",
              "      <td>0.42</td>\n",
              "      <td>1.290026</td>\n",
              "      <td>1.845827</td>\n",
              "      <td>0.545455</td>\n",
              "      <td>5.824660e-02</td>\n",
              "      <td>0.130646</td>\n",
              "    </tr>\n",
              "    <tr>\n",
              "      <th>9</th>\n",
              "      <td>coast</td>\n",
              "      <td>hill</td>\n",
              "      <td>0.87</td>\n",
              "      <td>5.884681</td>\n",
              "      <td>2.028148</td>\n",
              "      <td>0.666667</td>\n",
              "      <td>1.269797e-01</td>\n",
              "      <td>0.599113</td>\n",
              "    </tr>\n",
              "    <tr>\n",
              "      <th>10</th>\n",
              "      <td>coast</td>\n",
              "      <td>shore</td>\n",
              "      <td>3.70</td>\n",
              "      <td>9.415744</td>\n",
              "      <td>2.944439</td>\n",
              "      <td>0.909091</td>\n",
              "      <td>1.390583e+00</td>\n",
              "      <td>0.963217</td>\n",
              "    </tr>\n",
              "    <tr>\n",
              "      <th>11</th>\n",
              "      <td>crane</td>\n",
              "      <td>implement</td>\n",
              "      <td>1.68</td>\n",
              "      <td>3.257679</td>\n",
              "      <td>2.028148</td>\n",
              "      <td>0.750000</td>\n",
              "      <td>8.598152e-02</td>\n",
              "      <td>0.359057</td>\n",
              "    </tr>\n",
              "    <tr>\n",
              "      <th>12</th>\n",
              "      <td>food</td>\n",
              "      <td>fruit</td>\n",
              "      <td>3.08</td>\n",
              "      <td>1.592755</td>\n",
              "      <td>1.335001</td>\n",
              "      <td>0.400000</td>\n",
              "      <td>9.150387e-02</td>\n",
              "      <td>0.160984</td>\n",
              "    </tr>\n",
              "    <tr>\n",
              "      <th>13</th>\n",
              "      <td>food</td>\n",
              "      <td>rooster</td>\n",
              "      <td>0.89</td>\n",
              "      <td>0.801759</td>\n",
              "      <td>0.864997</td>\n",
              "      <td>0.210526</td>\n",
              "      <td>6.313551e-02</td>\n",
              "      <td>0.091932</td>\n",
              "    </tr>\n",
              "    <tr>\n",
              "      <th>14</th>\n",
              "      <td>forest</td>\n",
              "      <td>graveyard</td>\n",
              "      <td>0.84</td>\n",
              "      <td>1.290026</td>\n",
              "      <td>1.440362</td>\n",
              "      <td>0.428571</td>\n",
              "      <td>5.458198e-02</td>\n",
              "      <td>0.123441</td>\n",
              "    </tr>\n",
              "    <tr>\n",
              "      <th>15</th>\n",
              "      <td>furnace</td>\n",
              "      <td>stove</td>\n",
              "      <td>3.11</td>\n",
              "      <td>2.305849</td>\n",
              "      <td>1.335001</td>\n",
              "      <td>0.526316</td>\n",
              "      <td>6.409105e-02</td>\n",
              "      <td>0.228138</td>\n",
              "    </tr>\n",
              "    <tr>\n",
              "      <th>16</th>\n",
              "      <td>gem</td>\n",
              "      <td>jewel</td>\n",
              "      <td>3.84</td>\n",
              "      <td>12.067705</td>\n",
              "      <td>3.637586</td>\n",
              "      <td>1.000000</td>\n",
              "      <td>1.000000e+300</td>\n",
              "      <td>1.000000</td>\n",
              "    </tr>\n",
              "    <tr>\n",
              "      <th>17</th>\n",
              "      <td>glass</td>\n",
              "      <td>magician</td>\n",
              "      <td>0.11</td>\n",
              "      <td>2.282647</td>\n",
              "      <td>1.558145</td>\n",
              "      <td>0.470588</td>\n",
              "      <td>5.969757e-02</td>\n",
              "      <td>0.214168</td>\n",
              "    </tr>\n",
              "    <tr>\n",
              "      <th>18</th>\n",
              "      <td>journey</td>\n",
              "      <td>car</td>\n",
              "      <td>1.16</td>\n",
              "      <td>-0.000000</td>\n",
              "      <td>0.747214</td>\n",
              "      <td>0.105263</td>\n",
              "      <td>6.936083e-02</td>\n",
              "      <td>-0.000000</td>\n",
              "    </tr>\n",
              "    <tr>\n",
              "      <th>19</th>\n",
              "      <td>journey</td>\n",
              "      <td>voyage</td>\n",
              "      <td>3.84</td>\n",
              "      <td>6.825958</td>\n",
              "      <td>2.944439</td>\n",
              "      <td>0.952381</td>\n",
              "      <td>2.562806e-01</td>\n",
              "      <td>0.777715</td>\n",
              "    </tr>\n",
              "    <tr>\n",
              "      <th>20</th>\n",
              "      <td>lad</td>\n",
              "      <td>brother</td>\n",
              "      <td>1.66</td>\n",
              "      <td>2.333545</td>\n",
              "      <td>2.028148</td>\n",
              "      <td>0.666667</td>\n",
              "      <td>7.340693e-02</td>\n",
              "      <td>0.255175</td>\n",
              "    </tr>\n",
              "    <tr>\n",
              "      <th>21</th>\n",
              "      <td>lad</td>\n",
              "      <td>wizard</td>\n",
              "      <td>0.42</td>\n",
              "      <td>2.333545</td>\n",
              "      <td>2.028148</td>\n",
              "      <td>0.666667</td>\n",
              "      <td>7.337477e-02</td>\n",
              "      <td>0.255091</td>\n",
              "    </tr>\n",
              "    <tr>\n",
              "      <th>22</th>\n",
              "      <td>magician</td>\n",
              "      <td>wizard</td>\n",
              "      <td>3.50</td>\n",
              "      <td>11.980693</td>\n",
              "      <td>3.637586</td>\n",
              "      <td>1.000000</td>\n",
              "      <td>1.000000e+300</td>\n",
              "      <td>1.000000</td>\n",
              "    </tr>\n",
              "    <tr>\n",
              "      <th>23</th>\n",
              "      <td>midday</td>\n",
              "      <td>noon</td>\n",
              "      <td>3.42</td>\n",
              "      <td>11.064403</td>\n",
              "      <td>3.637586</td>\n",
              "      <td>1.000000</td>\n",
              "      <td>1.000000e+300</td>\n",
              "      <td>1.000000</td>\n",
              "    </tr>\n",
              "    <tr>\n",
              "      <th>24</th>\n",
              "      <td>monk</td>\n",
              "      <td>oracle</td>\n",
              "      <td>1.10</td>\n",
              "      <td>2.333545</td>\n",
              "      <td>1.558145</td>\n",
              "      <td>0.571429</td>\n",
              "      <td>6.243920e-02</td>\n",
              "      <td>0.225652</td>\n",
              "    </tr>\n",
              "    <tr>\n",
              "      <th>25</th>\n",
              "      <td>monk</td>\n",
              "      <td>slave</td>\n",
              "      <td>0.55</td>\n",
              "      <td>2.333545</td>\n",
              "      <td>2.028148</td>\n",
              "      <td>0.666667</td>\n",
              "      <td>7.307365e-02</td>\n",
              "      <td>0.254311</td>\n",
              "    </tr>\n",
              "    <tr>\n",
              "      <th>26</th>\n",
              "      <td>noon</td>\n",
              "      <td>string</td>\n",
              "      <td>0.08</td>\n",
              "      <td>0.596229</td>\n",
              "      <td>1.152680</td>\n",
              "      <td>0.266667</td>\n",
              "      <td>5.942403e-02</td>\n",
              "      <td>0.066172</td>\n",
              "    </tr>\n",
              "    <tr>\n",
              "      <th>27</th>\n",
              "      <td>rooster</td>\n",
              "      <td>voyage</td>\n",
              "      <td>0.08</td>\n",
              "      <td>-0.000000</td>\n",
              "      <td>0.459532</td>\n",
              "      <td>0.080000</td>\n",
              "      <td>4.368540e-02</td>\n",
              "      <td>-0.000000</td>\n",
              "    </tr>\n",
              "    <tr>\n",
              "      <th>28</th>\n",
              "      <td>shore</td>\n",
              "      <td>woodland</td>\n",
              "      <td>0.63</td>\n",
              "      <td>1.290026</td>\n",
              "      <td>2.028148</td>\n",
              "      <td>0.600000</td>\n",
              "      <td>6.079300e-02</td>\n",
              "      <td>0.135583</td>\n",
              "    </tr>\n",
              "    <tr>\n",
              "      <th>29</th>\n",
              "      <td>tool</td>\n",
              "      <td>implement</td>\n",
              "      <td>1.68</td>\n",
              "      <td>5.877389</td>\n",
              "      <td>2.944439</td>\n",
              "      <td>0.933333</td>\n",
              "      <td>1.524742e+00</td>\n",
              "      <td>0.947154</td>\n",
              "    </tr>\n",
              "  </tbody>\n",
              "</table>\n",
              "</div>"
            ],
            "text/plain": [
              "       Word1       Word2  Human  ...       wup            jcn       lin\n",
              "0     asylum    madhouse   3.61  ...  0.952381   3.126296e-01  0.855584\n",
              "1       bird        cock   3.05  ...  0.952381   2.229525e-01  0.773937\n",
              "2       bird       crane   2.97  ...  0.869565   1.931096e-01  0.747812\n",
              "3        boy         lad   3.76  ...  0.947368   2.917961e-01  0.830562\n",
              "4    brother        monk   2.82  ...  0.952381   3.917777e+00  0.986407\n",
              "5        car  automobile   3.92  ...  1.000000  1.000000e+300  1.000000\n",
              "6   cemetery    woodland   0.95  ...  0.428571   5.458198e-02  0.123441\n",
              "7      chord       smile   0.13  ...  0.375000   6.235766e-02  0.246256\n",
              "8      coast      forest   0.42  ...  0.545455   5.824660e-02  0.130646\n",
              "9      coast        hill   0.87  ...  0.666667   1.269797e-01  0.599113\n",
              "10     coast       shore   3.70  ...  0.909091   1.390583e+00  0.963217\n",
              "11     crane   implement   1.68  ...  0.750000   8.598152e-02  0.359057\n",
              "12      food       fruit   3.08  ...  0.400000   9.150387e-02  0.160984\n",
              "13      food     rooster   0.89  ...  0.210526   6.313551e-02  0.091932\n",
              "14    forest   graveyard   0.84  ...  0.428571   5.458198e-02  0.123441\n",
              "15   furnace       stove   3.11  ...  0.526316   6.409105e-02  0.228138\n",
              "16       gem       jewel   3.84  ...  1.000000  1.000000e+300  1.000000\n",
              "17     glass    magician   0.11  ...  0.470588   5.969757e-02  0.214168\n",
              "18   journey         car   1.16  ...  0.105263   6.936083e-02 -0.000000\n",
              "19   journey      voyage   3.84  ...  0.952381   2.562806e-01  0.777715\n",
              "20       lad     brother   1.66  ...  0.666667   7.340693e-02  0.255175\n",
              "21       lad      wizard   0.42  ...  0.666667   7.337477e-02  0.255091\n",
              "22  magician      wizard   3.50  ...  1.000000  1.000000e+300  1.000000\n",
              "23    midday        noon   3.42  ...  1.000000  1.000000e+300  1.000000\n",
              "24      monk      oracle   1.10  ...  0.571429   6.243920e-02  0.225652\n",
              "25      monk       slave   0.55  ...  0.666667   7.307365e-02  0.254311\n",
              "26      noon      string   0.08  ...  0.266667   5.942403e-02  0.066172\n",
              "27   rooster      voyage   0.08  ...  0.080000   4.368540e-02 -0.000000\n",
              "28     shore    woodland   0.63  ...  0.600000   6.079300e-02  0.135583\n",
              "29      tool   implement   1.68  ...  0.933333   1.524742e+00  0.947154\n",
              "\n",
              "[30 rows x 8 columns]"
            ]
          },
          "metadata": {
            "tags": []
          },
          "execution_count": 53
        }
      ]
    },
    {
      "cell_type": "markdown",
      "metadata": {
        "id": "Ku2AFNE06oX4"
      },
      "source": [
        "# 4.1 Tasks"
      ]
    },
    {
      "cell_type": "markdown",
      "metadata": {
        "id": "OnUrfcY-6qQJ"
      },
      "source": [
        "1. Repeat the tasks in Section 3 using similarity scores from the word2vec model. Make sure you\n",
        "correlate the word2vec similarities with the human synonymy judgements and the wordnet similarity\n",
        "scores.\n",
        "2. What do you conclude?\n",
        "\n",
        "Word2Vec produces the highest correlation with human judgements bar the Jiang-Conrath Similarity. It's interesting to see that SRCC suggests minimal correlation between Word2Vec and the WordNet measures, even though the measures all correlate to the human judgement. This suggests that words with dissilimar similarity scores from WordNet are more similar using Word2Vec. However, it is difficult to compare any of these measures as they are due to the difference in their scaling. For example, wup, lin and Word2Vec produces scores between 0 and 1, whereas res, lch and jcn produce scores beyond 1."
      ]
    },
    {
      "cell_type": "code",
      "metadata": {
        "id": "tyfrnCuYZNXH"
      },
      "source": [
        "word2vec = KeyedVectors.load_word2vec_format('GoogleNews-vectors-negative300.bin.gz', binary=True)"
      ],
      "execution_count": 11,
      "outputs": []
    },
    {
      "cell_type": "code",
      "metadata": {
        "id": "K2KjlhBqdCKq",
        "colab": {
          "base_uri": "https://localhost:8080/",
          "height": 266
        },
        "outputId": "1ee76b98-b65d-4592-eab1-ef2e0b326d47"
      },
      "source": [
        "df[8] = [word2vec.similarity(row['Word1'], row['Word2']) for index, row in df.iterrows()]\n",
        "df.rename(columns={8: 'w2v'}, inplace=True)\n",
        "\n",
        "df.corr(method='spearman')"
      ],
      "execution_count": 16,
      "outputs": [
        {
          "output_type": "execute_result",
          "data": {
            "text/html": [
              "<div>\n",
              "<style scoped>\n",
              "    .dataframe tbody tr th:only-of-type {\n",
              "        vertical-align: middle;\n",
              "    }\n",
              "\n",
              "    .dataframe tbody tr th {\n",
              "        vertical-align: top;\n",
              "    }\n",
              "\n",
              "    .dataframe thead th {\n",
              "        text-align: right;\n",
              "    }\n",
              "</style>\n",
              "<table border=\"1\" class=\"dataframe\">\n",
              "  <thead>\n",
              "    <tr style=\"text-align: right;\">\n",
              "      <th></th>\n",
              "      <th>Human</th>\n",
              "      <th>res</th>\n",
              "      <th>lch</th>\n",
              "      <th>wup</th>\n",
              "      <th>jcn</th>\n",
              "      <th>lin</th>\n",
              "      <th>w2v</th>\n",
              "    </tr>\n",
              "  </thead>\n",
              "  <tbody>\n",
              "    <tr>\n",
              "      <th>Human</th>\n",
              "      <td>1.000000</td>\n",
              "      <td>0.735945</td>\n",
              "      <td>0.722743</td>\n",
              "      <td>0.750534</td>\n",
              "      <td>0.825738</td>\n",
              "      <td>0.753510</td>\n",
              "      <td>0.786557</td>\n",
              "    </tr>\n",
              "    <tr>\n",
              "      <th>res</th>\n",
              "      <td>0.735945</td>\n",
              "      <td>1.000000</td>\n",
              "      <td>0.900648</td>\n",
              "      <td>0.915520</td>\n",
              "      <td>0.886012</td>\n",
              "      <td>0.962707</td>\n",
              "      <td>0.573820</td>\n",
              "    </tr>\n",
              "    <tr>\n",
              "      <th>lch</th>\n",
              "      <td>0.722743</td>\n",
              "      <td>0.900648</td>\n",
              "      <td>1.000000</td>\n",
              "      <td>0.987498</td>\n",
              "      <td>0.873062</td>\n",
              "      <td>0.945509</td>\n",
              "      <td>0.582529</td>\n",
              "    </tr>\n",
              "    <tr>\n",
              "      <th>wup</th>\n",
              "      <td>0.750534</td>\n",
              "      <td>0.915520</td>\n",
              "      <td>0.987498</td>\n",
              "      <td>1.000000</td>\n",
              "      <td>0.883328</td>\n",
              "      <td>0.952724</td>\n",
              "      <td>0.597392</td>\n",
              "    </tr>\n",
              "    <tr>\n",
              "      <th>jcn</th>\n",
              "      <td>0.825738</td>\n",
              "      <td>0.886012</td>\n",
              "      <td>0.873062</td>\n",
              "      <td>0.883328</td>\n",
              "      <td>1.000000</td>\n",
              "      <td>0.934315</td>\n",
              "      <td>0.556633</td>\n",
              "    </tr>\n",
              "    <tr>\n",
              "      <th>lin</th>\n",
              "      <td>0.753510</td>\n",
              "      <td>0.962707</td>\n",
              "      <td>0.945509</td>\n",
              "      <td>0.952724</td>\n",
              "      <td>0.934315</td>\n",
              "      <td>1.000000</td>\n",
              "      <td>0.586323</td>\n",
              "    </tr>\n",
              "    <tr>\n",
              "      <th>w2v</th>\n",
              "      <td>0.786557</td>\n",
              "      <td>0.573820</td>\n",
              "      <td>0.582529</td>\n",
              "      <td>0.597392</td>\n",
              "      <td>0.556633</td>\n",
              "      <td>0.586323</td>\n",
              "      <td>1.000000</td>\n",
              "    </tr>\n",
              "  </tbody>\n",
              "</table>\n",
              "</div>"
            ],
            "text/plain": [
              "          Human       res       lch       wup       jcn       lin       w2v\n",
              "Human  1.000000  0.735945  0.722743  0.750534  0.825738  0.753510  0.786557\n",
              "res    0.735945  1.000000  0.900648  0.915520  0.886012  0.962707  0.573820\n",
              "lch    0.722743  0.900648  1.000000  0.987498  0.873062  0.945509  0.582529\n",
              "wup    0.750534  0.915520  0.987498  1.000000  0.883328  0.952724  0.597392\n",
              "jcn    0.825738  0.886012  0.873062  0.883328  1.000000  0.934315  0.556633\n",
              "lin    0.753510  0.962707  0.945509  0.952724  0.934315  1.000000  0.586323\n",
              "w2v    0.786557  0.573820  0.582529  0.597392  0.556633  0.586323  1.000000"
            ]
          },
          "metadata": {
            "tags": []
          },
          "execution_count": 16
        }
      ]
    },
    {
      "cell_type": "code",
      "metadata": {
        "id": "rL1EYoxS_0Su"
      },
      "source": [
        "df[df['jcn'] > 100] = np.NaN # get rid of jcn values of e^300"
      ],
      "execution_count": 50,
      "outputs": []
    },
    {
      "cell_type": "markdown",
      "metadata": {
        "id": "_Klcr-pIBWqf"
      },
      "source": [
        "# 5 Extension: Significance Testing"
      ]
    },
    {
      "cell_type": "markdown",
      "metadata": {
        "id": "Grhv815wBbBf"
      },
      "source": [
        "How much better does one measure need to be than another in order for it to be a significant difference?\n",
        "If a different set of pairs of words had been chosen, how likely is it that you would have come to a\n",
        "different conclusion? This is a very hard question to answer conclusively but most notions of statistical\n",
        "significance are based on the size of the sample (bigger sample more likely to be significant) and the\n",
        "amount of variance in the sample (less variance implies more likely to be significant). Here we are going\n",
        "to attempt to estimate the significance of your results from Section 3.\n",
        "1. For each of the similarity measures you have considered, plot a scatter graph of word net-based\n",
        "similarity scores against human semantic judgments. You could use the scatter function from\n",
        "matplotlib or pandas for this. Make sure you add labels to the x and y axes and a title.\n",
        "2. Add a text box to the graph to display the correlation coefficient and the p-value. What does this\n",
        "p-value mean?\n",
        "\n",
        "The values are very low indicating minimal statistical significance. This is likely because of the small sample size.\n",
        "\n",
        "3. Calculate the regression line (i.e., the line of best fit) for each data set and display it on the graph.\n",
        "You can use scipy.stats.linregress() to calculate the regression line. Does this function return\n",
        "the same correlation coefficient as scipy.stats.spearmanr()?\n",
        "\n",
        "No the correlation coefficients are different, it looks as though the linear regression method produces similar results to pearson's correlational method.\n",
        "\n",
        "4. One way to get a handle on whether the differences between two correlation coefficients are significant\n",
        "is to construct 95% confidence intervals for those coefficients. A p% confidence interval should\n",
        "capture the true value p% of the time. Therefore if the confidence intervals don’t overlap, there is\n",
        "a very small chance (< 0.0252\n",
        ") that the one which has been observed to be the best is not the best.\n",
        "Common ways to construct confidence intervals include the Central Limit Theorem, cross-validation\n",
        "and bootstrapping. Here we will use bootstrapping2.\n",
        "In order to construct a 95% confidence interval of the correlation coefficient for n points.\n",
        "\n",
        "*   Take a random sample of n points (with replacement!).\n",
        "*   Calculate the correlation coefficient for the random sample.\n",
        "*   Repeat at least 100 times (1000 or 10000 would be better).\n",
        "*   Find the 2.5% and 97.5% percentiles from the list of correlation coefficients found for the different random samples. This is your 95% confidence interval.\n",
        "\n",
        "Construct 95% confidence intervals for at least 2 of the correlation coefficients. What do you conclude about the differences?"
      ]
    },
    {
      "cell_type": "code",
      "metadata": {
        "colab": {
          "base_uri": "https://localhost:8080/",
          "height": 1000
        },
        "id": "RK2mfrF7BsVf",
        "outputId": "e302c0e9-337d-4e81-c933-3b547511b30e"
      },
      "source": [
        "for measure in ['res', 'lch', 'wup', 'jcn', 'lin']:\n",
        "  fig, ax = plt.subplots()\n",
        "  \n",
        "  ax.scatter(x=df['Human'], y=df[measure])\n",
        "  ax.set_xlabel('Human')\n",
        "  ax.set_ylabel(measure)\n",
        "  ax.set_title('Human vs {}'.format(measure))\n",
        "\n",
        "  n = 10\n",
        "  interval = 0.95\n",
        "  srccs = []\n",
        "  for i in range(1000):\n",
        "    sample = df.sample(n)\n",
        "    srcc = sample['Human'].corr(sample[measure], method='spearman')\n",
        "    srccs.append(srcc)\n",
        "  srccs = pd.DataFrame(srccs)\n",
        "\n",
        "  res = linregress(df['Human'],df[measure])\n",
        "  ax.plot(df['Human'], res.intercept + res.slope*df['Human'], 'r', label='fitted line')\n",
        "  \n",
        "  textstr = r'$\\rho={:.2f}$''\\np-value={:.2e}\\nconf({}): {:.2f}<x<{:.2f}'.format(df['Human'].corr(df[measure], method='spearman'), spearmanr(df['Human'],df[measure])[1], interval, srccs.quantile((1-interval)/2)[0], srccs.quantile(1-(1-interval)/2)[0])\n",
        "\n",
        "  props = dict(boxstyle='round', facecolor='wheat', alpha=0.5)\n",
        "\n",
        "  ax.text(0.05, 0.95, textstr, transform=ax.transAxes, fontsize=14,\n",
        "        verticalalignment='top', bbox=props)\n",
        "\n",
        "  plt.show()"
      ],
      "execution_count": 175,
      "outputs": [
        {
          "output_type": "display_data",
          "data": {
            "image/png": "[encoded data removed]",
            "text/plain": [
              "<Figure size 432x288 with 1 Axes>"
            ]
          },
          "metadata": {
            "tags": [],
            "needs_background": "light"
          }
        },
        {
          "output_type": "display_data",
          "data": {
            "image/png": "[encoded data removed]",
            "text/plain": [
              "<Figure size 432x288 with 1 Axes>"
            ]
          },
          "metadata": {
            "tags": [],
            "needs_background": "light"
          }
        },
        {
          "output_type": "display_data",
          "data": {
            "image/png": "[encoded data removed]",
            "text/plain": [
              "<Figure size 432x288 with 1 Axes>"
            ]
          },
          "metadata": {
            "tags": [],
            "needs_background": "light"
          }
        },
        {
          "output_type": "display_data",
          "data": {
            "image/png": "[encoded data removed]",
            "text/plain": [
              "<Figure size 432x288 with 1 Axes>"
            ]
          },
          "metadata": {
            "tags": [],
            "needs_background": "light"
          }
        },
        {
          "output_type": "display_data",
          "data": {
            "image/png": "[encoded data removed]",
            "text/plain": [
              "<Figure size 432x288 with 1 Axes>"
            ]
          },
          "metadata": {
            "tags": [],
            "needs_background": "light"
          }
        }
      ]
    }
  ]
}
